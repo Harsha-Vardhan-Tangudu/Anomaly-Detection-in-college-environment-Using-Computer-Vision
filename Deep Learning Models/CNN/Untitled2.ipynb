{
 "cells": [
  {
   "cell_type": "code",
   "execution_count": 1,
   "id": "f4a338a5",
   "metadata": {},
   "outputs": [
    {
     "name": "stderr",
     "output_type": "stream",
     "text": [
      "C:\\Users\\Ganesh Harsha\\AppData\\Roaming\\Python\\Python311\\site-packages\\keras\\src\\layers\\convolutional\\base_conv.py:99: UserWarning: Do not pass an `input_shape`/`input_dim` argument to a layer. When using Sequential models, prefer using an `Input(shape)` object as the first layer in the model instead.\n",
      "  super().__init__(\n"
     ]
    },
    {
     "name": "stdout",
     "output_type": "stream",
     "text": [
      "Epoch 1/10\n",
      "\u001b[1m1/1\u001b[0m \u001b[32m━━━━━━━━━━━━━━━━━━━━\u001b[0m\u001b[37m\u001b[0m \u001b[1m3s\u001b[0m 3s/step - accuracy: 0.6000 - loss: 2.2959\n",
      "Epoch 2/10\n",
      "\u001b[1m1/1\u001b[0m \u001b[32m━━━━━━━━━━━━━━━━━━━━\u001b[0m\u001b[37m\u001b[0m \u001b[1m0s\u001b[0m 379ms/step - accuracy: 0.6000 - loss: 2459.1792\n",
      "Epoch 3/10\n",
      "\u001b[1m1/1\u001b[0m \u001b[32m━━━━━━━━━━━━━━━━━━━━\u001b[0m\u001b[37m\u001b[0m \u001b[1m0s\u001b[0m 239ms/step - accuracy: 0.6000 - loss: 722.5714\n",
      "Epoch 4/10\n",
      "\u001b[1m1/1\u001b[0m \u001b[32m━━━━━━━━━━━━━━━━━━━━\u001b[0m\u001b[37m\u001b[0m \u001b[1m0s\u001b[0m 250ms/step - accuracy: 0.4000 - loss: 134.1272\n",
      "Epoch 5/10\n",
      "\u001b[1m1/1\u001b[0m \u001b[32m━━━━━━━━━━━━━━━━━━━━\u001b[0m\u001b[37m\u001b[0m \u001b[1m0s\u001b[0m 249ms/step - accuracy: 1.0000 - loss: 0.0000e+00\n",
      "Epoch 6/10\n",
      "\u001b[1m1/1\u001b[0m \u001b[32m━━━━━━━━━━━━━━━━━━━━\u001b[0m\u001b[37m\u001b[0m \u001b[1m0s\u001b[0m 239ms/step - accuracy: 0.8000 - loss: 19.1182\n",
      "Epoch 7/10\n",
      "\u001b[1m1/1\u001b[0m \u001b[32m━━━━━━━━━━━━━━━━━━━━\u001b[0m\u001b[37m\u001b[0m \u001b[1m0s\u001b[0m 250ms/step - accuracy: 1.0000 - loss: 1.1916e-14\n",
      "Epoch 8/10\n",
      "\u001b[1m1/1\u001b[0m \u001b[32m━━━━━━━━━━━━━━━━━━━━\u001b[0m\u001b[37m\u001b[0m \u001b[1m0s\u001b[0m 252ms/step - accuracy: 1.0000 - loss: 2.7206e-38\n",
      "Epoch 9/10\n",
      "\u001b[1m1/1\u001b[0m \u001b[32m━━━━━━━━━━━━━━━━━━━━\u001b[0m\u001b[37m\u001b[0m \u001b[1m0s\u001b[0m 247ms/step - accuracy: 1.0000 - loss: 0.0000e+00\n",
      "Epoch 10/10\n",
      "\u001b[1m1/1\u001b[0m \u001b[32m━━━━━━━━━━━━━━━━━━━━\u001b[0m\u001b[37m\u001b[0m \u001b[1m0s\u001b[0m 242ms/step - accuracy: 1.0000 - loss: 0.0000e+00\n"
     ]
    },
    {
     "data": {
      "text/plain": [
       "<keras.src.callbacks.history.History at 0x200ca9cdf10>"
      ]
     },
     "execution_count": 1,
     "metadata": {},
     "output_type": "execute_result"
    }
   ],
   "source": [
    "import numpy as np\n",
    "import tensorflow as tf\n",
    "from tensorflow.keras import layers, models\n",
    "from tensorflow.keras.preprocessing.image import load_img, img_to_array\n",
    "\n",
    "# Data Preparation\n",
    "image_paths = [\"23.jpg\", \"24.jpg\", \"25.jpg\", \"36.jpg\", \"50.jpg\"]\n",
    "images = []\n",
    "for path in image_paths:\n",
    "    img = load_img(path, target_size=(224, 224))  # Resizing the images to a common size\n",
    "    img_array = img_to_array(img)\n",
    "    images.append(img_array)\n",
    "images = np.array(images)\n",
    "\n",
    "# Model Architecture\n",
    "model = models.Sequential([\n",
    "    layers.Conv2D(32, (3, 3), activation='relu', input_shape=(224, 224, 3)),\n",
    "    layers.MaxPooling2D((2, 2)),\n",
    "    layers.Conv2D(64, (3, 3), activation='relu'),\n",
    "    layers.MaxPooling2D((2, 2)),\n",
    "    layers.Conv2D(64, (3, 3), activation='relu'),\n",
    "    layers.Flatten(),\n",
    "    layers.Dense(64, activation='relu'),\n",
    "    layers.Dense(1, activation='sigmoid')\n",
    "])\n",
    "\n",
    "# Compile the Model\n",
    "model.compile(optimizer='adam',\n",
    "              loss='binary_crossentropy',\n",
    "              metrics=['accuracy'])\n",
    "\n",
    "# Training\n",
    "labels = np.array([0, 1, 0, 1, 0])  # Example labels, replace with your actual labels\n",
    "model.fit(images, labels, epochs=10, batch_size=32)\n",
    "\n",
    "# Evaluation (Optional)\n",
    "# test_images = [...]  # Load and preprocess your test images\n",
    "# test_labels = [...]  # Actual labels for test images\n",
    "# test_loss, test_acc = model.evaluate(test_images, test_labels)\n",
    "# print('Test accuracy:', test_acc)\n",
    "\n",
    "# Prediction\n",
    "# new_images = [...]  # Load and preprocess new images you want to predict\n",
    "# predictions = model.predict(new_images)\n",
    "# print(predictions)\n"
   ]
  },
  {
   "cell_type": "code",
   "execution_count": 2,
   "id": "c78874f8",
   "metadata": {},
   "outputs": [
    {
     "name": "stdout",
     "output_type": "stream",
     "text": [
      "\u001b[1m1/1\u001b[0m \u001b[32m━━━━━━━━━━━━━━━━━━━━\u001b[0m\u001b[37m\u001b[0m \u001b[1m0s\u001b[0m 331ms/step - accuracy: 1.0000 - loss: 0.0000e+00\n",
      "Test accuracy: 1.0\n",
      "\u001b[1m1/1\u001b[0m \u001b[32m━━━━━━━━━━━━━━━━━━━━\u001b[0m\u001b[37m\u001b[0m \u001b[1m0s\u001b[0m 157ms/step\n",
      "[[0.]\n",
      " [1.]\n",
      " [0.]\n",
      " [1.]\n",
      " [0.]]\n"
     ]
    }
   ],
   "source": [
    "# Load and preprocess test images\n",
    "test_images = []\n",
    "for path in [\"23.jpg\", \"24.jpg\", \"25.jpg\", \"36.jpg\", \"50.jpg\"]:\n",
    "    img = load_img(path, target_size=(224, 224))\n",
    "    img_array = img_to_array(img)\n",
    "    test_images.append(img_array)\n",
    "test_images = np.array(test_images)\n",
    "\n",
    "# Actual labels for test images\n",
    "test_labels =np.array([0, 1, 0, 1, 0]) # You need to provide the actual labels for these test images\n",
    "\n",
    "# Evaluation\n",
    "test_loss, test_acc = model.evaluate(test_images, test_labels)\n",
    "print('Test accuracy:', test_acc)\n",
    "\n",
    "# Prediction\n",
    "new_images = test_images  # You can use the same test images for prediction\n",
    "predictions = model.predict(new_images)\n",
    "print(predictions)\n"
   ]
  },
  {
   "cell_type": "code",
   "execution_count": 3,
   "id": "e6b39576",
   "metadata": {},
   "outputs": [
    {
     "name": "stdout",
     "output_type": "stream",
     "text": [
      "\u001b[1m1/1\u001b[0m \u001b[32m━━━━━━━━━━━━━━━━━━━━\u001b[0m\u001b[37m\u001b[0m \u001b[1m0s\u001b[0m 79ms/step - accuracy: 1.0000 - loss: 0.0000e+00\n",
      "Test accuracy: 1.0\n",
      "\u001b[1m1/1\u001b[0m \u001b[32m━━━━━━━━━━━━━━━━━━━━\u001b[0m\u001b[37m\u001b[0m \u001b[1m0s\u001b[0m 75ms/step\n",
      "[[0.]\n",
      " [1.]\n",
      " [0.]\n",
      " [1.]\n",
      " [0.]]\n"
     ]
    }
   ],
   "source": [
    "# Load and preprocess test images\n",
    "test_images = []\n",
    "for path in [\"23.jpg\", \"24.jpg\", \"25.jpg\", \"36.jpg\", \"500.jpg\"]:\n",
    "    img = load_img(path, target_size=(224, 224))\n",
    "    img_array = img_to_array(img)\n",
    "    test_images.append(img_array)\n",
    "test_images = np.array(test_images)\n",
    "\n",
    "# Actual labels for test images\n",
    "test_labels =np.array([0, 1, 0, 1, 0]) # You need to provide the actual labels for these test images\n",
    "\n",
    "# Evaluation\n",
    "test_loss, test_acc = model.evaluate(test_images, test_labels)\n",
    "print('Test accuracy:', test_acc)\n",
    "\n",
    "# Prediction\n",
    "new_images = test_images  # You can use the same test images for prediction\n",
    "predictions = model.predict(new_images)\n",
    "print(predictions)\n"
   ]
  },
  {
   "cell_type": "code",
   "execution_count": 4,
   "id": "0fcbd2ad",
   "metadata": {},
   "outputs": [
    {
     "name": "stdout",
     "output_type": "stream",
     "text": [
      "\u001b[1m1/1\u001b[0m \u001b[32m━━━━━━━━━━━━━━━━━━━━\u001b[0m\u001b[37m\u001b[0m \u001b[1m0s\u001b[0m 89ms/step - accuracy: 0.6000 - loss: 68.6454\n",
      "Test accuracy: 0.6000000238418579\n",
      "\u001b[1m1/1\u001b[0m \u001b[32m━━━━━━━━━━━━━━━━━━━━\u001b[0m\u001b[37m\u001b[0m \u001b[1m0s\u001b[0m 60ms/step\n",
      "[[0.]\n",
      " [1.]\n",
      " [1.]\n",
      " [0.]\n",
      " [0.]]\n"
     ]
    }
   ],
   "source": [
    "# Load and preprocess test images\n",
    "test_images = []\n",
    "for path in [\"23.jpg\", \"24.jpg\", \"24.jpg\", \"25.jpg\", \"500.jpg\"]:\n",
    "    img = load_img(path, target_size=(224, 224))\n",
    "    img_array = img_to_array(img)\n",
    "    test_images.append(img_array)\n",
    "test_images = np.array(test_images)\n",
    "\n",
    "# Actual labels for test images\n",
    "test_labels =np.array([0, 1, 0, 1, 0]) # You need to provide the actual labels for these test images\n",
    "\n",
    "# Evaluation\n",
    "test_loss, test_acc = model.evaluate(test_images, test_labels)\n",
    "print('Test accuracy:', test_acc)\n",
    "\n",
    "# Prediction\n",
    "new_images = test_images  # You can use the same test images for prediction\n",
    "predictions = model.predict(new_images)\n",
    "print(predictions)\n"
   ]
  },
  {
   "cell_type": "code",
   "execution_count": 8,
   "id": "a6a695b6",
   "metadata": {},
   "outputs": [
    {
     "name": "stdout",
     "output_type": "stream",
     "text": [
      "\u001b[1m1/1\u001b[0m \u001b[32m━━━━━━━━━━━━━━━━━━━━\u001b[0m\u001b[37m\u001b[0m \u001b[1m0s\u001b[0m 82ms/step - accuracy: 1.0000 - loss: 0.0000e+00\n",
      "Test accuracy: 1.0\n",
      "\u001b[1m1/1\u001b[0m \u001b[32m━━━━━━━━━━━━━━━━━━━━\u001b[0m\u001b[37m\u001b[0m \u001b[1m0s\u001b[0m 53ms/step\n",
      "[[0.]\n",
      " [1.]\n",
      " [0.]\n",
      " [1.]\n",
      " [0.]]\n"
     ]
    }
   ],
   "source": [
    "# Load and preprocess test images\n",
    "test_images = []\n",
    "for path in [\"23.jpg\", \"24.jpg\", \"25.jpg\", \"36.jpg\", \"50.jpg\"]:\n",
    "    img = load_img(path, target_size=(224, 224))\n",
    "    img_array = img_to_array(img)\n",
    "    test_images.append(img_array)\n",
    "test_images = np.array(test_images)\n",
    "\n",
    "# Actual labels for test images\n",
    "test_labels =np.array([0, 1, 0, 1, 0]) # You need to provide the actual labels for these test images\n",
    "\n",
    "# Evaluation\n",
    "test_loss, test_acc = model.evaluate(test_images, test_labels)\n",
    "print('Test accuracy:', test_acc)\n",
    "\n",
    "# Prediction\n",
    "new_images = test_images  # You can use the same test images for prediction\n",
    "predictions = model.predict(new_images)\n",
    "print(predictions)\n"
   ]
  },
  {
   "cell_type": "code",
   "execution_count": null,
   "id": "0f966b0a",
   "metadata": {},
   "outputs": [],
   "source": []
  }
 ],
 "metadata": {
  "kernelspec": {
   "display_name": "Python 3 (ipykernel)",
   "language": "python",
   "name": "python3"
  },
  "language_info": {
   "codemirror_mode": {
    "name": "ipython",
    "version": 3
   },
   "file_extension": ".py",
   "mimetype": "text/x-python",
   "name": "python",
   "nbconvert_exporter": "python",
   "pygments_lexer": "ipython3",
   "version": "3.11.3"
  }
 },
 "nbformat": 4,
 "nbformat_minor": 5
}
